{
 "cells": [
  {
   "cell_type": "markdown",
   "metadata": {},
   "source": [
    "# Homework 1 and 2 due November 23$^{th}$, 2021\n",
    "\n",
    "The aim of this homework is to practive the concepts of basic data structures, control flows and loops in Python. You are expected to use GitHub Classroom and present your work as an html file (i.e. web page) on your progress journals. You can use this jupyter notebook as template to provide your answers."
   ]
  },
  {
   "cell_type": "markdown",
   "metadata": {},
   "source": [
    "## Task 1\n",
    "Implement a Python program to input two numbers and perform all arithmetic operations. You are expected to find the sum, difference, product, quotient and remainder of two given numbers."
   ]
  },
  {
   "cell_type": "code",
   "execution_count": 50,
   "metadata": {},
   "outputs": [],
   "source": [
    "def arithmetic(a:int,b:int):\n",
    "    s=a+b\n",
    "    d=a-b\n",
    "    p=a*b\n",
    "    q=int(a/b)\n",
    "    r=a%b\n",
    "    print(\"Sum=\",s)\n",
    "    print(\"Difference=\",d)\n",
    "    print(\"Product=\",p)\n",
    "    print(\"Quotient=\",q)\n",
    "    print(\"Remainder=\",r)"
   ]
  },
  {
   "cell_type": "code",
   "execution_count": 51,
   "metadata": {},
   "outputs": [
    {
     "name": "stdout",
     "output_type": "stream",
     "text": [
      "Sum= 11\n",
      "Difference= 7\n",
      "Product= 18\n",
      "Quotient= 4\n",
      "Remainder= 1\n"
     ]
    }
   ],
   "source": [
    "arithmetic(9,2)"
   ]
  },
  {
   "cell_type": "markdown",
   "metadata": {},
   "source": [
    "## Task 2\n",
    "Implement a Python program to input length and width of a rectangle and find area of the given rectangle. "
   ]
  },
  {
   "cell_type": "code",
   "execution_count": 52,
   "metadata": {},
   "outputs": [],
   "source": [
    "def area(width:float,length:float):\n",
    "    return(width*length)"
   ]
  },
  {
   "cell_type": "code",
   "execution_count": 53,
   "metadata": {},
   "outputs": [
    {
     "data": {
      "text/plain": [
       "12"
      ]
     },
     "execution_count": 53,
     "metadata": {},
     "output_type": "execute_result"
    }
   ],
   "source": [
    "area(4,3)"
   ]
  },
  {
   "cell_type": "markdown",
   "metadata": {},
   "source": [
    "## Task 3\n",
    "Implement a Python program to input any decimal number from user and convert it to binary number system (i.e. base-2 number system)"
   ]
  },
  {
   "cell_type": "code",
   "execution_count": 54,
   "metadata": {},
   "outputs": [],
   "source": [
    "def decimaltobinary(x:int):\n",
    "    if x > 1:\n",
    "        decimaltobinary(x // 2)\n",
    "    print(x % 2, end='')\n"
   ]
  },
  {
   "cell_type": "code",
   "execution_count": 55,
   "metadata": {},
   "outputs": [
    {
     "name": "stdout",
     "output_type": "stream",
     "text": [
      "1111"
     ]
    }
   ],
   "source": [
    "decimaltobinary(15)"
   ]
  },
  {
   "cell_type": "markdown",
   "metadata": {},
   "source": [
    "## Task 4\n",
    "Implement a Python program to input a number and check whether number is even or odd using if/else statements.\n",
    "\n",
    "Example:\n",
    "Input <br>\n",
    "Input num: 25 <br>\n",
    "Output <br>\n",
    "25 is odd."
   ]
  },
  {
   "cell_type": "code",
   "execution_count": 56,
   "metadata": {},
   "outputs": [],
   "source": [
    "def check_even_odd(number:int):\n",
    "    if number%2==0:\n",
    "        print(number,\"is even.\")\n",
    "    else:\n",
    "        print(number,\"is odd.\")"
   ]
  },
  {
   "cell_type": "code",
   "execution_count": 57,
   "metadata": {
    "scrolled": true
   },
   "outputs": [
    {
     "name": "stdout",
     "output_type": "stream",
     "text": [
      "212 is even.\n"
     ]
    }
   ],
   "source": [
    "check_even_odd(212)"
   ]
  },
  {
   "cell_type": "markdown",
   "metadata": {},
   "source": [
    "## Task 5\n",
    "Implement a Python program to check if input year is a leap year using if/else statements."
   ]
  },
  {
   "cell_type": "code",
   "execution_count": 58,
   "metadata": {},
   "outputs": [],
   "source": [
    "def leap_year(year:int):\n",
    "    if year%4==0:\n",
    "        print(year,\"is a leap year\")\n",
    "    else:\n",
    "        print(year,\"is not a leap year\")"
   ]
  },
  {
   "cell_type": "code",
   "execution_count": 59,
   "metadata": {},
   "outputs": [
    {
     "name": "stdout",
     "output_type": "stream",
     "text": [
      "2020 is a leap year\n"
     ]
    }
   ],
   "source": [
    "leap_year(2020)"
   ]
  },
  {
   "cell_type": "markdown",
   "metadata": {},
   "source": [
    "## Task 6\n",
    "Implement a Python program to print all natural numbers from 1 to n using loop."
   ]
  },
  {
   "cell_type": "code",
   "execution_count": 60,
   "metadata": {},
   "outputs": [],
   "source": [
    "def natural(n:int):\n",
    "    for i in range (n):\n",
    "        print(i+1)"
   ]
  },
  {
   "cell_type": "code",
   "execution_count": 61,
   "metadata": {},
   "outputs": [
    {
     "name": "stdout",
     "output_type": "stream",
     "text": [
      "1\n",
      "2\n",
      "3\n",
      "4\n",
      "5\n",
      "6\n",
      "7\n",
      "8\n",
      "9\n",
      "10\n",
      "11\n",
      "12\n",
      "13\n",
      "14\n",
      "15\n",
      "16\n",
      "17\n",
      "18\n"
     ]
    }
   ],
   "source": [
    "natural(18)"
   ]
  },
  {
   "cell_type": "markdown",
   "metadata": {},
   "source": [
    "## Task 7\n",
    "Implement a Python program to input a number from user and swap first and last digit of the given number. This task is easy to perform when input is transformed to a string. However, the aim here is to make use of mathematical operations to perform the swapping operation. One way to perform this task is to divide the input number by 10 until you are left with the first digit. The remainder from the first division is the last digit. Note that there are alternative approaches to perform the same task."
   ]
  },
  {
   "cell_type": "code",
   "execution_count": 62,
   "metadata": {},
   "outputs": [],
   "source": [
    "\n",
    "def swap(x:int):\n",
    "    number=x\n",
    "    count=0\n",
    "    last=x%10\n",
    "    while (x>= 10):\n",
    "        x=(x//10)\n",
    "        count=count+1\n",
    "        first=x\n",
    "    print(number-(first-last)*10**count+(first-last))"
   ]
  },
  {
   "cell_type": "code",
   "execution_count": 63,
   "metadata": {},
   "outputs": [
    {
     "name": "stdout",
     "output_type": "stream",
     "text": [
      "16754329\n"
     ]
    }
   ],
   "source": [
    "swap(96754321)"
   ]
  },
  {
   "cell_type": "markdown",
   "metadata": {},
   "source": [
    "## Task 8\n",
    "Implement a Python program to input any number from user and find cube of the given number using function. "
   ]
  },
  {
   "cell_type": "code",
   "execution_count": 64,
   "metadata": {},
   "outputs": [],
   "source": [
    "def cube(number:float):\n",
    "    print(number**3)"
   ]
  },
  {
   "cell_type": "code",
   "execution_count": 65,
   "metadata": {},
   "outputs": [
    {
     "name": "stdout",
     "output_type": "stream",
     "text": [
      "64\n"
     ]
    }
   ],
   "source": [
    "cube(4)"
   ]
  },
  {
   "cell_type": "markdown",
   "metadata": {},
   "source": [
    "## Task 9\n",
    "Write a function to find prime numbers between two integers (i.e. lower and upper bound). Note that you need to control if provided bounds are positive (at least upper bound should be some positive number) and upper bound is larger than provided lower bound."
   ]
  },
  {
   "cell_type": "code",
   "execution_count": 66,
   "metadata": {},
   "outputs": [],
   "source": [
    "def prime(lower:int,upper:int):\n",
    "     for num in range(0,upper + 1):\n",
    "         if num > 1:\n",
    "             for i in range(2,num):\n",
    "                 if (num % i) == 0:\n",
    "                     break\n",
    "             else:\n",
    "                 print(num)\n"
   ]
  },
  {
   "cell_type": "code",
   "execution_count": 67,
   "metadata": {},
   "outputs": [
    {
     "name": "stdout",
     "output_type": "stream",
     "text": [
      "2\n",
      "3\n",
      "5\n",
      "7\n",
      "11\n",
      "13\n",
      "17\n",
      "19\n",
      "23\n",
      "29\n",
      "31\n",
      "37\n",
      "41\n",
      "43\n",
      "47\n",
      "53\n",
      "59\n",
      "61\n",
      "67\n",
      "71\n",
      "73\n",
      "79\n",
      "83\n",
      "89\n",
      "97\n"
     ]
    }
   ],
   "source": [
    "prime(1,99)"
   ]
  },
  {
   "cell_type": "markdown",
   "metadata": {},
   "source": [
    "## Task 10\n",
    "Implement a Python program that takes a list with numerical elements and find the sum of list elements."
   ]
  },
  {
   "cell_type": "code",
   "execution_count": 68,
   "metadata": {},
   "outputs": [],
   "source": [
    "def sum_list(l:list):\n",
    "    s=0\n",
    "    for i in range(len(l)):\n",
    "        s=s+l[i]\n",
    "    print (s)"
   ]
  },
  {
   "cell_type": "code",
   "execution_count": 69,
   "metadata": {},
   "outputs": [
    {
     "name": "stdout",
     "output_type": "stream",
     "text": [
      "28\n"
     ]
    }
   ],
   "source": [
    "sum_list([3,5,8,12])"
   ]
  },
  {
   "cell_type": "markdown",
   "metadata": {},
   "source": [
    "## Task 11\n",
    "Implement a Python program that takes an integer list and find frequency of each element in list. There are built-in functions to perform this task in Python however you are expected perform this task using loops. Example:\n",
    "\n",
    "\n",
    "Input\n",
    "Input array elements: 4, 9, 9, 5, 100, 1, 2, 1, 2\n",
    "\n",
    "Output <br>\n",
    "Frequency of 4 = 1  <br>\n",
    "Frequency of 9 = 2  <br>\n",
    "Frequency of 5 = 1  <br>\n",
    "Frequency of 100 = 1  <br>\n",
    "Frequency of 1 = 2  <br>\n",
    "Frequency of 2 = 2  <br>"
   ]
  },
  {
   "cell_type": "code",
   "execution_count": 70,
   "metadata": {},
   "outputs": [],
   "source": [
    "def frequency(l:list):\n",
    "    r={}\n",
    "    for i in l:\n",
    "        if i in r:\n",
    "            r[i]=r[i]+1\n",
    "        else:\n",
    "            r[i]=1\n",
    "    for i in r:\n",
    "        print(\"Frequency of\",i,\"=\",r[i])"
   ]
  },
  {
   "cell_type": "code",
   "execution_count": 71,
   "metadata": {},
   "outputs": [
    {
     "name": "stdout",
     "output_type": "stream",
     "text": [
      "Frequency of 4 = 1\n",
      "Frequency of 9 = 2\n",
      "Frequency of 5 = 1\n",
      "Frequency of 100 = 1\n",
      "Frequency of 1 = 2\n",
      "Frequency of 2 = 2\n"
     ]
    }
   ],
   "source": [
    "frequency([4, 9, 9, 5, 100, 1, 2, 1, 2])"
   ]
  },
  {
   "cell_type": "markdown",
   "metadata": {},
   "source": [
    "## Task 12\n",
    "Implement a Python program that reads the side (side sizes between 1 and 5 ) of a square and prints square using hash (#) character.\n",
    "\n",
    "Input: 5\n",
    "Sample Output: <br>\n",
    "Input the size of the square:  <br>\n",
    " $ # # # # # $ <br>\n",
    " $ # # # # # $ <br>\n",
    " $ # # # # # $ <br>\n",
    " $ # # # # # $ <br>\n",
    " $ # # # # # $ <br>"
   ]
  },
  {
   "cell_type": "code",
   "execution_count": 72,
   "metadata": {},
   "outputs": [],
   "source": [
    "def square(x:int):\n",
    "     for i in range(0,x):\n",
    "         for k in range (0,x):\n",
    "             print(\"#\", end=\" \")\n",
    "         print()\n"
   ]
  },
  {
   "cell_type": "code",
   "execution_count": 73,
   "metadata": {
    "scrolled": true
   },
   "outputs": [
    {
     "name": "stdout",
     "output_type": "stream",
     "text": [
      "# # # # # \n",
      "# # # # # \n",
      "# # # # # \n",
      "# # # # # \n",
      "# # # # # \n"
     ]
    }
   ],
   "source": [
    "square(5)"
   ]
  }
 ],
 "metadata": {
  "kernelspec": {
   "display_name": "Python 3",
   "language": "python",
   "name": "python3"
  },
  "language_info": {
   "codemirror_mode": {
    "name": "ipython",
    "version": 3
   },
   "file_extension": ".py",
   "mimetype": "text/x-python",
   "name": "python",
   "nbconvert_exporter": "python",
   "pygments_lexer": "ipython3",
   "version": "3.8.8"
  }
 },
 "nbformat": 4,
 "nbformat_minor": 2
}
